{
  "nbformat": 4,
  "nbformat_minor": 0,
  "metadata": {
    "colab": {
      "name": "Untitled0.ipynb",
      "version": "0.3.2",
      "provenance": [],
      "toc_visible": true,
      "include_colab_link": true
    },
    "kernelspec": {
      "name": "python3",
      "display_name": "Python 3"
    },
    "accelerator": "GPU"
  },
  "cells": [
    {
      "cell_type": "markdown",
      "metadata": {
        "id": "view-in-github",
        "colab_type": "text"
      },
      "source": [
        "<a href=\"https://colab.research.google.com/github/deepdiy/deepdiy/blob/master/model_zoo/mrcnn/training/single_class.ipynb\" target=\"_parent\"><img src=\"https://colab.research.google.com/assets/colab-badge.svg\" alt=\"Open In Colab\"/></a>"
      ]
    },
    {
      "metadata": {
        "id": "a3N2LxTC7oxw",
        "colab_type": "text"
      },
      "cell_type": "markdown",
      "source": [
        "# Mask R-CNN - Train on single class dataset (Labeld with VIA)\n",
        "This notebook shows how to train Mask R-CNN on you own data. \n",
        "\n",
        "## Step1: Run the first cell by clicking the first cell below and click '▷' button on the left.\n",
        "The first cell will set the envirment for running Mask-RCNN model\n",
        "\n",
        "### Notice: When you run this notebook for the first time, colab will notice you to \"Reset All Runtimes\", don't worry, please press \"YES\""
      ]
    },
    {
      "metadata": {
        "id": "Eh91CACuyAEu",
        "colab_type": "code",
        "colab": {}
      },
      "cell_type": "code",
      "source": [
        "!wget https://raw.githubusercontent.com/deepdiy/deepdiy/master/model_zoo/mrcnn/training/single_class.py\n",
        "!git clone --quiet https://github.com/matterport/Mask_RCNN.git\n",
        "%cd Mask_RCNN\n",
        "\n",
        "!pip install -q PyDrive\n",
        "!pip install -r requirements.txt\n",
        "!python setup.py install"
      ],
      "execution_count": 0,
      "outputs": []
    },
    {
      "metadata": {
        "id": "122KBivDAR0J",
        "colab_type": "text"
      },
      "cell_type": "markdown",
      "source": [
        "## Step2: Upload dataset and unzip\n",
        "#### ①: Upload\n",
        "Press File tab and upload your dataset zip file to default directory (/content/). If you can't see File tab, press ''>'' button on the left edge of screen to expend the File tab. \n",
        "#### Notice: You need to sign in with your google account to upload files. The files will be uploaded to google server and they are private, which means only you have the access to these files.\n",
        "\n",
        "#### ②: Unzip\n",
        "Run the following cell to unzip your dataset. \n",
        "### Notice: Your dataset should named as 'dataset.zip'\n",
        "\n",
        "\n"
      ]
    },
    {
      "metadata": {
        "id": "jFVQmfHqyTwb",
        "colab_type": "code",
        "colab": {}
      },
      "cell_type": "code",
      "source": [
        "import os\n",
        "from zipfile import ZipFile\n",
        "\n",
        "%cd /content/\n",
        "ds = ZipFile('dataset.zip')\n",
        "ds.extractall()"
      ],
      "execution_count": 0,
      "outputs": []
    },
    {
      "metadata": {
        "id": "gwjeVe6RCriV",
        "colab_type": "text"
      },
      "cell_type": "markdown",
      "source": [
        "## Step 3: Trainning\n",
        "\n",
        "Run the following cell by ▷ button"
      ]
    },
    {
      "metadata": {
        "id": "9qSp_oM7LT2z",
        "colab_type": "code",
        "colab": {}
      },
      "cell_type": "code",
      "source": [
        "%cd /content/\n",
        "\n",
        "!python single_class.py train --dataset=dataset/ --weights=coco --config=dataset/config.json"
      ],
      "execution_count": 0,
      "outputs": []
    },
    {
      "metadata": {
        "id": "nNJToFH2-vVw",
        "colab_type": "text"
      },
      "cell_type": "markdown",
      "source": [
        "## Download and using model weights\n",
        "### Download\n",
        "Weight files of each epoch are saved automaticaly in logs/ folder. \n",
        "Please download the latest weight and\n",
        "\n",
        "### Using\n",
        "Please put weight file in your /model_zoo/mrcnn/weights/ directory of DeepDIY software on your PC. DeepDIY will scan the directory and you can see your weight in the DeepDIY window."
      ]
    }
  ]
}