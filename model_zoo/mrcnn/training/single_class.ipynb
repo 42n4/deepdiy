{
  "nbformat": 4,
  "nbformat_minor": 0,
  "metadata": {
    "colab": {
      "name": "Untitled0.ipynb",
      "version": "0.3.2",
      "provenance": [],
      "include_colab_link": true
    },
    "kernelspec": {
      "name": "python3",
      "display_name": "Python 3"
    },
    "accelerator": "GPU"
  },
  "cells": [
    {
      "cell_type": "markdown",
      "metadata": {
        "id": "view-in-github",
        "colab_type": "text"
      },
      "source": [
        "<a href=\"https://colab.research.google.com/github/deepdiy/deepdiy/blob/master/model_zoo/mrcnn/training/single_class.ipynb\" target=\"_parent\"><img src=\"https://colab.research.google.com/assets/colab-badge.svg\" alt=\"Open In Colab\"/></a>"
      ]
    },
    {
      "metadata": {
        "id": "a3N2LxTC7oxw",
        "colab_type": "text"
      },
      "cell_type": "markdown",
      "source": [
        "# Mask R-CNN - Train on single class dataset (Labeld with VIA)\n",
        "This notebook shows how to train Mask R-CNN on you own data. "
      ]
    },
    {
      "metadata": {
        "id": "Eh91CACuyAEu",
        "colab_type": "code",
        "colab": {}
      },
      "cell_type": "code",
      "source": [
        "!wget https://raw.githubusercontent.com/deepdiy/deepdiy/master/model_zoo/mrcnn/training/single_class.py\n",
        "!git clone --quiet https://github.com/matterport/Mask_RCNN.git\n",
        "%cd Mask_RCNN\n",
        "\n",
        "!pip install -q PyDrive\n",
        "!pip install -r requirements.txt\n",
        "!python setup.py install"
      ],
      "execution_count": 0,
      "outputs": []
    },
    {
      "metadata": {
        "id": "jFVQmfHqyTwb",
        "colab_type": "code",
        "colab": {}
      },
      "cell_type": "code",
      "source": [
        "import os\n",
        "from zipfile import ZipFile\n",
        "\n",
        "%cd /content/\n",
        "ds = ZipFile('dataset.zip')\n",
        "ds.extractall()"
      ],
      "execution_count": 0,
      "outputs": []
    },
    {
      "metadata": {
        "id": "9qSp_oM7LT2z",
        "colab_type": "code",
        "colab": {}
      },
      "cell_type": "code",
      "source": [
        "%cd /content/\n",
        "\n",
        "!python single_class.py train --dataset=dataset/ --weights=coco --config=dataset/config.json"
      ],
      "execution_count": 0,
      "outputs": []
    }
  ]
}