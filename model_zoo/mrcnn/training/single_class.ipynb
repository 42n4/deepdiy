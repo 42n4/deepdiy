{
  "nbformat": 4,
  "nbformat_minor": 0,
  "metadata": {
    "colab": {
      "name": "Untitled0.ipynb",
      "version": "0.3.2",
      "provenance": []
    },
    "kernelspec": {
      "name": "python3",
      "display_name": "Python 3"
    },
    "accelerator": "GPU"
  },
  "cells": [
    {
      "metadata": {
        "id": "Eh91CACuyAEu",
        "colab_type": "code",
        "colab": {}
      },
      "cell_type": "code",
      "source": [
        "!wget https://raw.githubusercontent.com/deepdiy/deepdiy/master/model_zoo/mrcnn/training/single_class.py\n",
        "!git clone --quiet https://github.com/matterport/Mask_RCNN.git\n",
        "%cd Mask_RCNN\n",
        "\n",
        "!pip install -q PyDrive\n",
        "!pip install -r requirements.txt\n",
        "!python setup.py install"
      ],
      "execution_count": 0,
      "outputs": []
    },
    {
      "metadata": {
        "id": "jFVQmfHqyTwb",
        "colab_type": "code",
        "outputId": "af354c3a-5456-48b0-b4e3-f94d612dd34e",
        "colab": {
          "base_uri": "https://localhost:8080/",
          "height": 33
        }
      },
      "cell_type": "code",
      "source": [
        "import os\n",
        "from zipfile import ZipFile\n",
        "\n",
        "%cd /content/\n",
        "ds = ZipFile('dataset.zip')\n",
        "ds.extractall()"
      ],
      "execution_count": 2,
      "outputs": [
        {
          "output_type": "stream",
          "text": [
            "/content\n"
          ],
          "name": "stdout"
        }
      ]
    },
    {
      "metadata": {
        "id": "9qSp_oM7LT2z",
        "colab_type": "code",
        "colab": {}
      },
      "cell_type": "code",
      "source": [
        "%cd /content/\n",
        "\n",
        "!python single_class.py train --dataset=dataset/ --weights=coco --config=dataset/config.json"
      ],
      "execution_count": 0,
      "outputs": []
    }
  ]
}